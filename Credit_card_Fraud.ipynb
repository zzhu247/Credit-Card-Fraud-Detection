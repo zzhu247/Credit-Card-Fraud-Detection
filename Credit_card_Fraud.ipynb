{
  "nbformat": 4,
  "nbformat_minor": 0,
  "metadata": {
    "kernelspec": {
      "display_name": "Python 3",
      "language": "python",
      "name": "python3"
    },
    "language_info": {
      "codemirror_mode": {
        "name": "ipython",
        "version": 3
      },
      "file_extension": ".py",
      "mimetype": "text/x-python",
      "name": "python",
      "nbconvert_exporter": "python",
      "pygments_lexer": "ipython3",
      "version": "3.8.5"
    },
    "colab": {
      "name": "Copy of assignment3.ipynb",
      "provenance": []
    }
  },
  "cells": [
    {
      "cell_type": "markdown",
      "metadata": {
        "id": "gh4sUEHPw3RQ"
      },
      "source": [
        "# Assignment 3: Classification with Logistic Regression\n",
        "\n",
        "# Total: /100\n",
        "\n",
        "## Instructions\n",
        "\n",
        "* Complete the assignment\n",
        "\n",
        "* Once the notebook is complete, restart your kernel and rerun your cells\n",
        "\n",
        "* Submit this notebook to owl by the deadline\n",
        "\n",
        "* You may use any python library functions you wish to complete the assignment.\n",
        "\n",
        "## The Dataset\n",
        "\n",
        "The dataset contains transactions made by credit cards in September 2013 by European cardholders. \n",
        "This dataset presents transactions that occurred in two days, where we have 492 frauds out of 284,807 transactions. The dataset is highly unbalanced, the positive class (frauds) account for 0.172% of all transactions.\n",
        "\n",
        "It contains only numerical input variables which are the result of a PCA transformation. Unfortunately, due to confidentiality issues, we cannot provide the original features and more background information about the data. Features V1, V2, â€¦ V28 are the principal components obtained with PCA, the only features which have not been transformed with PCA are 'Time' and 'Amount'. \\[You will learn about PCA in a later Lesson.\\] Feature 'Time' contains the seconds elapsed between each transaction and the first transaction in the dataset. The feature 'Amount' is the transaction Amount. Feature 'Class' is the response variable and it takes value 1 in case of fraud and 0 otherwise.\n",
        "\n",
        "You can read more about the data and the variables [here](https://www.kaggle.com/mlg-ulb/creditcardfraud)."
      ]
    },
    {
      "cell_type": "code",
      "metadata": {
        "id": "JjJc_dT9w3RV"
      },
      "source": [
        "# You may need these\n",
        "import pandas as pd\n",
        "import seaborn as sns\n",
        "import numpy as np\n",
        "from sklearn.model_selection import train_test_split\n",
        "from sklearn.linear_model import LogisticRegression\n",
        "from sklearn.metrics import confusion_matrix, roc_curve, precision_recall_curve, auc\n",
        "\n",
        "\n",
        "import matplotlib.pyplot as plt\n",
        "%matplotlib inline"
      ],
      "execution_count": null,
      "outputs": []
    },
    {
      "cell_type": "markdown",
      "metadata": {
        "id": "Yqvwjwo7w3RW"
      },
      "source": [
        "## Question 1: /5 pts\n",
        "\n",
        "Read in the `creditcard.csv` dataset and display the first 5 rows.\n"
      ]
    },
    {
      "cell_type": "code",
      "metadata": {
        "id": "Nfdp56B1w3RW",
        "colab": {
          "base_uri": "https://localhost:8080/",
          "height": 224
        },
        "outputId": "3380eb33-242e-485d-d0c3-61d802c018fa"
      },
      "source": [
        "# Question 1 code here\n",
        "df = pd.read_csv('creditcard.csv',error_bad_lines=False)\n",
        "df.head()"
      ],
      "execution_count": null,
      "outputs": [
        {
          "output_type": "execute_result",
          "data": {
            "text/html": [
              "<div>\n",
              "<style scoped>\n",
              "    .dataframe tbody tr th:only-of-type {\n",
              "        vertical-align: middle;\n",
              "    }\n",
              "\n",
              "    .dataframe tbody tr th {\n",
              "        vertical-align: top;\n",
              "    }\n",
              "\n",
              "    .dataframe thead th {\n",
              "        text-align: right;\n",
              "    }\n",
              "</style>\n",
              "<table border=\"1\" class=\"dataframe\">\n",
              "  <thead>\n",
              "    <tr style=\"text-align: right;\">\n",
              "      <th></th>\n",
              "      <th>Time</th>\n",
              "      <th>V1</th>\n",
              "      <th>V2</th>\n",
              "      <th>V3</th>\n",
              "      <th>V4</th>\n",
              "      <th>V5</th>\n",
              "      <th>V6</th>\n",
              "      <th>V7</th>\n",
              "      <th>V8</th>\n",
              "      <th>V9</th>\n",
              "      <th>V10</th>\n",
              "      <th>V11</th>\n",
              "      <th>V12</th>\n",
              "      <th>V13</th>\n",
              "      <th>V14</th>\n",
              "      <th>V15</th>\n",
              "      <th>V16</th>\n",
              "      <th>V17</th>\n",
              "      <th>V18</th>\n",
              "      <th>V19</th>\n",
              "      <th>V20</th>\n",
              "      <th>V21</th>\n",
              "      <th>V22</th>\n",
              "      <th>V23</th>\n",
              "      <th>V24</th>\n",
              "      <th>V25</th>\n",
              "      <th>V26</th>\n",
              "      <th>V27</th>\n",
              "      <th>V28</th>\n",
              "      <th>Amount</th>\n",
              "      <th>Class</th>\n",
              "    </tr>\n",
              "  </thead>\n",
              "  <tbody>\n",
              "    <tr>\n",
              "      <th>0</th>\n",
              "      <td>0.0</td>\n",
              "      <td>-1.359807</td>\n",
              "      <td>-0.072781</td>\n",
              "      <td>2.536347</td>\n",
              "      <td>1.378155</td>\n",
              "      <td>-0.338321</td>\n",
              "      <td>0.462388</td>\n",
              "      <td>0.239599</td>\n",
              "      <td>0.098698</td>\n",
              "      <td>0.363787</td>\n",
              "      <td>0.090794</td>\n",
              "      <td>-0.551600</td>\n",
              "      <td>-0.617801</td>\n",
              "      <td>-0.991390</td>\n",
              "      <td>-0.311169</td>\n",
              "      <td>1.468177</td>\n",
              "      <td>-0.470401</td>\n",
              "      <td>0.207971</td>\n",
              "      <td>0.025791</td>\n",
              "      <td>0.403993</td>\n",
              "      <td>0.251412</td>\n",
              "      <td>-0.018307</td>\n",
              "      <td>0.277838</td>\n",
              "      <td>-0.110474</td>\n",
              "      <td>0.066928</td>\n",
              "      <td>0.128539</td>\n",
              "      <td>-0.189115</td>\n",
              "      <td>0.133558</td>\n",
              "      <td>-0.021053</td>\n",
              "      <td>149.62</td>\n",
              "      <td>0</td>\n",
              "    </tr>\n",
              "    <tr>\n",
              "      <th>1</th>\n",
              "      <td>0.0</td>\n",
              "      <td>1.191857</td>\n",
              "      <td>0.266151</td>\n",
              "      <td>0.166480</td>\n",
              "      <td>0.448154</td>\n",
              "      <td>0.060018</td>\n",
              "      <td>-0.082361</td>\n",
              "      <td>-0.078803</td>\n",
              "      <td>0.085102</td>\n",
              "      <td>-0.255425</td>\n",
              "      <td>-0.166974</td>\n",
              "      <td>1.612727</td>\n",
              "      <td>1.065235</td>\n",
              "      <td>0.489095</td>\n",
              "      <td>-0.143772</td>\n",
              "      <td>0.635558</td>\n",
              "      <td>0.463917</td>\n",
              "      <td>-0.114805</td>\n",
              "      <td>-0.183361</td>\n",
              "      <td>-0.145783</td>\n",
              "      <td>-0.069083</td>\n",
              "      <td>-0.225775</td>\n",
              "      <td>-0.638672</td>\n",
              "      <td>0.101288</td>\n",
              "      <td>-0.339846</td>\n",
              "      <td>0.167170</td>\n",
              "      <td>0.125895</td>\n",
              "      <td>-0.008983</td>\n",
              "      <td>0.014724</td>\n",
              "      <td>2.69</td>\n",
              "      <td>0</td>\n",
              "    </tr>\n",
              "    <tr>\n",
              "      <th>2</th>\n",
              "      <td>1.0</td>\n",
              "      <td>-1.358354</td>\n",
              "      <td>-1.340163</td>\n",
              "      <td>1.773209</td>\n",
              "      <td>0.379780</td>\n",
              "      <td>-0.503198</td>\n",
              "      <td>1.800499</td>\n",
              "      <td>0.791461</td>\n",
              "      <td>0.247676</td>\n",
              "      <td>-1.514654</td>\n",
              "      <td>0.207643</td>\n",
              "      <td>0.624501</td>\n",
              "      <td>0.066084</td>\n",
              "      <td>0.717293</td>\n",
              "      <td>-0.165946</td>\n",
              "      <td>2.345865</td>\n",
              "      <td>-2.890083</td>\n",
              "      <td>1.109969</td>\n",
              "      <td>-0.121359</td>\n",
              "      <td>-2.261857</td>\n",
              "      <td>0.524980</td>\n",
              "      <td>0.247998</td>\n",
              "      <td>0.771679</td>\n",
              "      <td>0.909412</td>\n",
              "      <td>-0.689281</td>\n",
              "      <td>-0.327642</td>\n",
              "      <td>-0.139097</td>\n",
              "      <td>-0.055353</td>\n",
              "      <td>-0.059752</td>\n",
              "      <td>378.66</td>\n",
              "      <td>0</td>\n",
              "    </tr>\n",
              "    <tr>\n",
              "      <th>3</th>\n",
              "      <td>1.0</td>\n",
              "      <td>-0.966272</td>\n",
              "      <td>-0.185226</td>\n",
              "      <td>1.792993</td>\n",
              "      <td>-0.863291</td>\n",
              "      <td>-0.010309</td>\n",
              "      <td>1.247203</td>\n",
              "      <td>0.237609</td>\n",
              "      <td>0.377436</td>\n",
              "      <td>-1.387024</td>\n",
              "      <td>-0.054952</td>\n",
              "      <td>-0.226487</td>\n",
              "      <td>0.178228</td>\n",
              "      <td>0.507757</td>\n",
              "      <td>-0.287924</td>\n",
              "      <td>-0.631418</td>\n",
              "      <td>-1.059647</td>\n",
              "      <td>-0.684093</td>\n",
              "      <td>1.965775</td>\n",
              "      <td>-1.232622</td>\n",
              "      <td>-0.208038</td>\n",
              "      <td>-0.108300</td>\n",
              "      <td>0.005274</td>\n",
              "      <td>-0.190321</td>\n",
              "      <td>-1.175575</td>\n",
              "      <td>0.647376</td>\n",
              "      <td>-0.221929</td>\n",
              "      <td>0.062723</td>\n",
              "      <td>0.061458</td>\n",
              "      <td>123.50</td>\n",
              "      <td>0</td>\n",
              "    </tr>\n",
              "    <tr>\n",
              "      <th>4</th>\n",
              "      <td>2.0</td>\n",
              "      <td>-1.158233</td>\n",
              "      <td>0.877737</td>\n",
              "      <td>1.548718</td>\n",
              "      <td>0.403034</td>\n",
              "      <td>-0.407193</td>\n",
              "      <td>0.095921</td>\n",
              "      <td>0.592941</td>\n",
              "      <td>-0.270533</td>\n",
              "      <td>0.817739</td>\n",
              "      <td>0.753074</td>\n",
              "      <td>-0.822843</td>\n",
              "      <td>0.538196</td>\n",
              "      <td>1.345852</td>\n",
              "      <td>-1.119670</td>\n",
              "      <td>0.175121</td>\n",
              "      <td>-0.451449</td>\n",
              "      <td>-0.237033</td>\n",
              "      <td>-0.038195</td>\n",
              "      <td>0.803487</td>\n",
              "      <td>0.408542</td>\n",
              "      <td>-0.009431</td>\n",
              "      <td>0.798278</td>\n",
              "      <td>-0.137458</td>\n",
              "      <td>0.141267</td>\n",
              "      <td>-0.206010</td>\n",
              "      <td>0.502292</td>\n",
              "      <td>0.219422</td>\n",
              "      <td>0.215153</td>\n",
              "      <td>69.99</td>\n",
              "      <td>0</td>\n",
              "    </tr>\n",
              "  </tbody>\n",
              "</table>\n",
              "</div>"
            ],
            "text/plain": [
              "   Time        V1        V2        V3  ...       V27       V28  Amount  Class\n",
              "0   0.0 -1.359807 -0.072781  2.536347  ...  0.133558 -0.021053  149.62      0\n",
              "1   0.0  1.191857  0.266151  0.166480  ... -0.008983  0.014724    2.69      0\n",
              "2   1.0 -1.358354 -1.340163  1.773209  ... -0.055353 -0.059752  378.66      0\n",
              "3   1.0 -0.966272 -0.185226  1.792993  ...  0.062723  0.061458  123.50      0\n",
              "4   2.0 -1.158233  0.877737  1.548718  ...  0.219422  0.215153   69.99      0\n",
              "\n",
              "[5 rows x 31 columns]"
            ]
          },
          "metadata": {
            "tags": []
          },
          "execution_count": 36
        }
      ]
    },
    {
      "cell_type": "code",
      "metadata": {
        "id": "pN8U5sD9MrOw"
      },
      "source": [
        ""
      ],
      "execution_count": null,
      "outputs": []
    },
    {
      "cell_type": "code",
      "metadata": {
        "id": "uPQtsoMGMKfh"
      },
      "source": [
        ""
      ],
      "execution_count": null,
      "outputs": []
    },
    {
      "cell_type": "markdown",
      "metadata": {
        "id": "sXC6xECtw3RW"
      },
      "source": [
        "## Question 2: /5 pts\n",
        "\n",
        "Then split the data into train and test for the outcome/response and the predictor variables. Hold out 50% of observations as the test set.  Pass `random_state=0` to `train_test_split` to ensure you get the same train and tests sets as the solution."
      ]
    },
    {
      "cell_type": "code",
      "metadata": {
        "id": "DYmgydAXw3RX"
      },
      "source": [
        "# Question 2 code here.\n",
        "X = df.drop('Class', axis='columns').values\n",
        "y = df.Class.values\n",
        "\n",
        "Xtrain, Xtest, ytrain, ytest = train_test_split(X, y, test_size=0.5, random_state=0)\n"
      ],
      "execution_count": null,
      "outputs": []
    },
    {
      "cell_type": "markdown",
      "metadata": {
        "id": "dZQg7s23w3RX"
      },
      "source": [
        "## Question 3: /5 pts\n",
        "\n",
        "Read the documentation for [sklearn's `LogisticRegression`](https://scikit-learn.org/stable/modules/generated/sklearn.linear_model.LogisticRegression.html).  In no more than 2 sentences per bullet point, answer the following in your own words.\n",
        "\n",
        "* Does `LogisticRegression` use a penalty by default?  If yes, what penalty?\n",
        "\n",
        "**YOUR ANSWER HERE:** \n",
        "Yes, this represents that the fuction actually implements ridge regression by default.\n",
        "    \n",
        "* If we apply a penalty during learning, what difference do you expect to see in the resulting coefficients, relative to not applying a penalty during learning?\n",
        "\n",
        "**YOUR ANSWER HERE:** If we applied penalty, the coefficent should be smaller.\n",
        "    \n",
        "* If using the default settings of `LogisticRegression` in `sklearn`, should you include a column of 1s in your feature/design matrix? Briefly explain why or why not.\n",
        "\n",
        "**YOUR ANSWER HERE:** No. Since sklearn estimates an intercept by default.\n"
      ]
    },
    {
      "cell_type": "markdown",
      "metadata": {
        "id": "5VAcI7Itw3RX"
      },
      "source": [
        "## Question 4: /15 pts\n",
        "\n",
        "Create a instance of sklearn's `LogisticRegression` object for unpenalized logistic regression. Note: If you get a warning about convergence of `coef_`, try increasing the `max_iter` parameter.  I used `max_iter=10000` which seems to supress the warning.\n",
        "\n",
        "Using this object, **run a logisitic regression analysis** of `Class` (y-variable) against `Amount` (x-variable) using your training data. \n",
        "\n",
        "Then **make a plot with three main components based on the analysis**:\n",
        "1. Scatter-plot of `Amount` and `Outcome` on your test data\n",
        "2. A curve showing the prediction (0 or 1, using `predict` - this curve will jump between 0 and 1) as a function of `Amount`\n",
        "3. A curve showing the predicted probability of a positive outcome (using `predict_proba`) as a function of `Amount`. Note that `predict_proba` will return both p(Outcome=0) and p(Outcome=1) in an array."
      ]
    },
    {
      "cell_type": "code",
      "metadata": {
        "id": "T5HwE0RBw3RY",
        "colab": {
          "base_uri": "https://localhost:8080/",
          "height": 370
        },
        "outputId": "a9f478a5-232d-4736-e93c-155a567093b2"
      },
      "source": [
        "# Question 4 code here\n",
        "LOGREG_AMOUNT = LogisticRegression(solver='lbfgs',penalty = 'none',max_iter=10000)\n",
        "Xtrain_amount = Xtrain[:,[29]]\n",
        "Xtest_amount = Xtest[:,[29]]\n",
        "LR_amount = LOGREG_AMOUNT.fit(Xtrain_amount,ytrain)\n",
        "\n",
        "plt.scatter(Xtestamount,ytest)\n",
        "xp=np.reshape(np.linspace(0,max(Xtestamount),50),(-1,1))\n",
        "yp1=LR_amount.predict(xp)\n",
        "yp2=LR_amount.predict_proba(xp)\n",
        "sns.lineplot(xp[:,0],yp1)\n",
        "sns.lineplot(xp[:,0],yp2[:,1])"
      ],
      "execution_count": null,
      "outputs": [
        {
          "output_type": "stream",
          "text": [
            "/usr/local/lib/python3.6/dist-packages/seaborn/_decorators.py:43: FutureWarning: Pass the following variables as keyword args: x, y. From version 0.12, the only valid positional argument will be `data`, and passing other arguments without an explicit keyword will result in an error or misinterpretation.\n",
            "  FutureWarning\n",
            "/usr/local/lib/python3.6/dist-packages/seaborn/_decorators.py:43: FutureWarning: Pass the following variables as keyword args: x, y. From version 0.12, the only valid positional argument will be `data`, and passing other arguments without an explicit keyword will result in an error or misinterpretation.\n",
            "  FutureWarning\n"
          ],
          "name": "stderr"
        },
        {
          "output_type": "execute_result",
          "data": {
            "text/plain": [
              "<matplotlib.axes._subplots.AxesSubplot at 0x7fd3623a4eb8>"
            ]
          },
          "metadata": {
            "tags": []
          },
          "execution_count": 39
        },
        {
          "output_type": "display_data",
          "data": {
            "image/png": "[encoded data removed]",
            "text/plain": [
              "<Figure size 432x288 with 1 Axes>"
            ]
          },
          "metadata": {
            "tags": [],
            "needs_background": "light"
          }
        }
      ]
    },
    {
      "cell_type": "markdown",
      "metadata": {
        "id": "rjrtetGpw3RY"
      },
      "source": [
        "## Question 5: 15 pts\n",
        "\n",
        "Compute the label-based criteria we discussed in the Lesson for your amount-only classifier **using the test data**. Use a threshold of 0.5. Answer the questions in this text box below.\n",
        "\n",
        "* How many of the test instances are labeled positive by your classifier?\n",
        "\n",
        "**YOUR ANSWER HERE:**  one\n",
        "\n",
        "* Choose one of the positively-labeled test instances, and explain why the classifier labeled it positive.\n",
        "\n",
        "**YOUR ANSWER HERE:** The coefficient of Amount is positive and prositive-labled examples have very large Amount. \n",
        "\n",
        "* Is this classifier useful for finding fraudulent transactions? Explain in one or two sentences.\n",
        "\n",
        "**YOUR ANSWER HERE:** Classifiers cannot find positives, therefore it is not useful.\n"
      ]
    },
    {
      "cell_type": "code",
      "metadata": {
        "id": "5jhqCV_Hw3RY",
        "colab": {
          "base_uri": "https://localhost:8080/"
        },
        "outputId": "8e0eac42-84e4-4c51-92d2-08a58c4020fc"
      },
      "source": [
        "# Calculate performance measures from scratch\n",
        "# TP: true postives \n",
        "# TN: true negatives \n",
        "# FP: False positives \n",
        "# FN: False negatives\n",
        "def compute_performance(yhat, y, classes):\n",
        "    # First, get tp, tn, fp, fn\n",
        "    tp = sum(np.logical_and(yhat == classes[1], y == classes[1]))\n",
        "    tn = sum(np.logical_and(yhat == classes[0], y == classes[0]))\n",
        "    fp = sum(np.logical_and(yhat == classes[1], y == classes[0]))\n",
        "    fn = sum(np.logical_and(yhat == classes[0], y == classes[1]))\n",
        "\n",
        "    print(f\"tp: {tp} tn: {tn} fp: {fp} fn: {fn}\")\n",
        "    \n",
        "    # Accuracy\n",
        "    acc = (tp + tn) / (tp + tn + fp + fn)\n",
        "    \n",
        "    # Precision\n",
        "    # \"Of the ones I labeled +, how many are actually +?\"\n",
        "    precision = tp / (tp + fp)\n",
        "    \n",
        "    # Recall\n",
        "    # \"Of all the + in the data, how many do I correctly label?\"\n",
        "    recall = tp / (tp + fn)    \n",
        "    \n",
        "    # Sensitivity\n",
        "    # \"Of all the + in the data, how many do I correctly label?\"\n",
        "    sensitivity = recall\n",
        "    \n",
        "    # Specificity\n",
        "    # \"Of all the - in the data, how many do I correctly label?\"\n",
        "    specificity = tn / (fp + tn)\n",
        "    \n",
        "    # Print results\n",
        "    \n",
        "    print(\"Accuracy:\",round(acc,3),\"Recall:\",round(recall,3),\"Precision:\",round(precision,3),\n",
        "          \"Sensitivity:\",round(sensitivity,3),\"Specificity:\",round(specificity,3))\n",
        "\n",
        "## Put code here to compute criteria:\n",
        "ytest_hat = LR_amount.predict(Xtest_amount)\n",
        "compute_performance(ytest_hat, ytest, LR_amount.classes_)\n",
        "\n",
        "## Put code here to compute whatever else you might need to answer the question.\n",
        "print(f\"The Coefficient for Amount: {LR_amount.coef_}\")\n",
        "print(f\"The Value of amount for positive example: {Xtest_amount[ytest_hat > 0]}\")\n"
      ],
      "execution_count": null,
      "outputs": [
        {
          "output_type": "stream",
          "text": [
            "tp: 0 tn: 142160 fp: 1 fn: 243\n",
            "Accuracy: 0.998 Recall: 0.0 Precision: 0.0 Sensitivity: 0.0 Specificity: 1.0\n",
            "Coefficient for Amount: [[0.00032136]]\n",
            "Value of amount for positive example: [[25691.16]]\n"
          ],
          "name": "stdout"
        }
      ]
    },
    {
      "cell_type": "markdown",
      "metadata": {
        "id": "RV4GglMHw3RY"
      },
      "source": [
        "## Question 6: /10 pts\n",
        "Now fit a logistic regression model to the training data and include all the variables in the data frame (except for `Class`) in the cell below. You will want to make a new object like you did for the simpler model. Answer the following question.\n",
        "\n",
        "* According to this more complex model, are larger or smaller Amounts more strongly associated with fraud, if all other variables are held equal?\n",
        "\n",
        "**YOUR ANSWER HERE:** The larger Amounts show less associated with fraud\n"
      ]
    },
    {
      "cell_type": "code",
      "metadata": {
        "id": "AoRKILU9w3RZ",
        "colab": {
          "base_uri": "https://localhost:8080/"
        },
        "outputId": "721ca5cf-3541-449a-853a-a5b08d8d7c99"
      },
      "source": [
        "# Code for Question 6\n",
        "LOGREG = LogisticRegression(solver='lbfgs',penalty = 'none',max_iter=10000)\n",
        "LR_all = LOGREG.fit(Xtrain,ytrain)\n",
        "LR_all.coef_\n"
      ],
      "execution_count": null,
      "outputs": [
        {
          "output_type": "execute_result",
          "data": {
            "text/plain": [
              "array([[-6.00291269e-05,  4.89887483e-01, -4.05683388e-01,\n",
              "        -1.15017849e+00,  1.18685944e-01, -1.95885006e-01,\n",
              "        -3.99857176e-02,  8.76330660e-01, -4.68738854e-01,\n",
              "        -6.04523582e-01, -4.94548363e-01, -6.18681889e-01,\n",
              "         9.67560961e-02, -4.81776881e-01, -8.18389115e-01,\n",
              "        -9.61238357e-01, -4.70890320e-01, -5.27944458e-01,\n",
              "         1.43717257e-01, -1.74199108e-02,  2.46603902e-01,\n",
              "         6.44148340e-01,  6.46861339e-01,  6.98988228e-02,\n",
              "        -5.47108589e-02, -8.26537069e-01,  1.91030165e-01,\n",
              "        -1.27170265e-01,  1.21686134e-01, -6.19095794e-03]])"
            ]
          },
          "metadata": {
            "tags": []
          },
          "execution_count": 44
        }
      ]
    },
    {
      "cell_type": "markdown",
      "metadata": {
        "id": "rImEuF2tw3RZ"
      },
      "source": [
        "## Question 7: /15 pts\n",
        "\n",
        "In the cell below, Compute the label-based criteria we discussed in the Lesson for new classifier using the test data. (You don't have to copy the function down into this cell; just call it again here.) Use a threshold of 0.5. Answer the questions in this text box below.\n",
        "\n",
        "* How many of the test instances are labeled positive by your classifier?\n",
        "\n",
        "**YOUR ANSWER:** \n",
        "\n",
        "* Is this classifier **better or worse than the amount-only classifier** for finding fraudulent transactions? Explain in one or two sentences.*\n",
        "\n",
        "**YOUR ANSWER:** Better. Since the classifier have non-zero true positives.\n"
      ]
    },
    {
      "cell_type": "code",
      "metadata": {
        "id": "2yed5Wjgw3RZ",
        "colab": {
          "base_uri": "https://localhost:8080/"
        },
        "outputId": "3dd16931-825d-4a28-b03a-e9f504faccc8"
      },
      "source": [
        "# Code for Question 7\n",
        "ytest_hat_all = LR_all.predict(Xtest)\n",
        "compute_performance(ytest_hat_all, ytest, LR_all.classes_)\n"
      ],
      "execution_count": null,
      "outputs": [
        {
          "output_type": "stream",
          "text": [
            "tp: 157 tn: 142133 fp: 28 fn: 86\n",
            "Accuracy: 0.999 Recall: 0.646 Precision: 0.849 Sensitivity: 0.646 Specificity: 1.0\n"
          ],
          "name": "stdout"
        }
      ]
    },
    {
      "cell_type": "markdown",
      "metadata": {
        "id": "FQPNbUcSw3Ra"
      },
      "source": [
        "# Question 8: /15 pts\n",
        "\n",
        "Plot ROC curves for both of your classifiers using the cells below, then answer the following questions, computing whatever quantities you need to answer them.\n",
        "\n",
        "* Which classifier has a higher estimated probability of correctly distinguishing between a positive and a negative instance? How do you know?\n",
        "\n",
        "**YOUR ANSWER:** \n",
        "\n",
        "* How could you explain a result where a logistic regression classifier produces an AUROC that is \"worse than random\", i.e. less than 0.5, even on its training set?\n",
        "\n",
        "**YOUR ANSWER:** \n",
        "The logistic regression optimize likelihood instead of AUROC"
      ]
    },
    {
      "cell_type": "code",
      "metadata": {
        "id": "sJ8ROmpsw3Ra",
        "colab": {
          "base_uri": "https://localhost:8080/",
          "height": 350
        },
        "outputId": "ff3a4e20-45b4-490b-d2a2-d13776217949"
      },
      "source": [
        "# ROC for Amount-only classifier\n",
        "ytest_prob_amount = LR_amount.predict_proba(Xtest_amount)\n",
        "fpr, tpr, _ = roc_curve(ytest, ytest_prob_amount[:,1], pos_label=1)\n",
        "ax=sns.lineplot(fpr,tpr)\n",
        "ax.set(xlabel=\"FPR\",ylabel=\"TPR\")\n",
        "auc(fpr,tpr)"
      ],
      "execution_count": null,
      "outputs": [
        {
          "output_type": "stream",
          "text": [
            "/usr/local/lib/python3.6/dist-packages/seaborn/_decorators.py:43: FutureWarning: Pass the following variables as keyword args: x, y. From version 0.12, the only valid positional argument will be `data`, and passing other arguments without an explicit keyword will result in an error or misinterpretation.\n",
            "  FutureWarning\n"
          ],
          "name": "stderr"
        },
        {
          "output_type": "execute_result",
          "data": {
            "text/plain": [
              "0.42178603619387894"
            ]
          },
          "metadata": {
            "tags": []
          },
          "execution_count": 46
        },
        {
          "output_type": "display_data",
          "data": {
            "image/png": "[encoded data removed]",
            "text/plain": [
              "<Figure size 432x288 with 1 Axes>"
            ]
          },
          "metadata": {
            "tags": [],
            "needs_background": "light"
          }
        }
      ]
    },
    {
      "cell_type": "code",
      "metadata": {
        "id": "eddBd3FCw3Ra",
        "colab": {
          "base_uri": "https://localhost:8080/",
          "height": 350
        },
        "outputId": "528214b9-d508-43ca-96f7-5112babc3e0a"
      },
      "source": [
        "# ROC for all-variable classifier\n",
        "ytest_prob = LR_all.predict_proba(Xtest)\n",
        "fpr, tpr, _ = roc_curve(ytest, ytest_prob[:,1], pos_label=1)\n",
        "ax=sns.lineplot(fpr,tpr)\n",
        "ax.set(xlabel=\"FPR\",ylabel=\"TPR\")\n",
        "auc(fpr,tpr)"
      ],
      "execution_count": null,
      "outputs": [
        {
          "output_type": "stream",
          "text": [
            "/usr/local/lib/python3.6/dist-packages/seaborn/_decorators.py:43: FutureWarning: Pass the following variables as keyword args: x, y. From version 0.12, the only valid positional argument will be `data`, and passing other arguments without an explicit keyword will result in an error or misinterpretation.\n",
            "  FutureWarning\n"
          ],
          "name": "stderr"
        },
        {
          "output_type": "execute_result",
          "data": {
            "text/plain": [
              "0.9268708349945665"
            ]
          },
          "metadata": {
            "tags": []
          },
          "execution_count": 47
        },
        {
          "output_type": "display_data",
          "data": {
            "image/png": "[encoded data removed]",
            "text/plain": [
              "<Figure size 432x288 with 1 Axes>"
            ]
          },
          "metadata": {
            "tags": [],
            "needs_background": "light"
          }
        }
      ]
    },
    {
      "cell_type": "markdown",
      "metadata": {
        "id": "UWheU2_Hw3Ra"
      },
      "source": [
        "# Question 9: /15 pts\n",
        "\n",
        "Plot precision-recall curves for both of your classifiers using the cell below. Be sure to label your axes.\n",
        "\n",
        "* Which classifier is preferable if we want to recover at least 60% of fraudulent transactions?\n",
        "\n",
        "**YOUR ANSWER:**  Model with all variables\n"
      ]
    },
    {
      "cell_type": "code",
      "metadata": {
        "id": "V7sFwD0uw3Ra",
        "colab": {
          "base_uri": "https://localhost:8080/",
          "height": 350
        },
        "outputId": "175b0d31-afa9-4684-f812-feb3875f8f5f"
      },
      "source": [
        "# PRC for Amount-only classifier\n",
        "ytest_prob_amount = LR_amount.predict_proba(Xtest_amount)\n",
        "precision, recall, _ = precision_recall_curve(ytest, ytest_prob_amount[:,1], pos_label=1)\n",
        "ax=sns.lineplot(recall,precision)\n",
        "ax.set(xlabel=\"Recall\",ylabel=\"Precision\")"
      ],
      "execution_count": null,
      "outputs": [
        {
          "output_type": "stream",
          "text": [
            "/usr/local/lib/python3.6/dist-packages/seaborn/_decorators.py:43: FutureWarning: Pass the following variables as keyword args: x, y. From version 0.12, the only valid positional argument will be `data`, and passing other arguments without an explicit keyword will result in an error or misinterpretation.\n",
            "  FutureWarning\n"
          ],
          "name": "stderr"
        },
        {
          "output_type": "execute_result",
          "data": {
            "text/plain": [
              "[Text(0, 0.5, 'Precision'), Text(0.5, 0, 'Recall')]"
            ]
          },
          "metadata": {
            "tags": []
          },
          "execution_count": 48
        },
        {
          "output_type": "display_data",
          "data": {
            "image/png": "[encoded data removed]",
            "text/plain": [
              "<Figure size 432x288 with 1 Axes>"
            ]
          },
          "metadata": {
            "tags": [],
            "needs_background": "light"
          }
        }
      ]
    },
    {
      "cell_type": "code",
      "metadata": {
        "id": "UxRwsYDEw3Ra",
        "colab": {
          "base_uri": "https://localhost:8080/",
          "height": 350
        },
        "outputId": "d0e33d15-1fc6-4839-e106-3d53835a794f"
      },
      "source": [
        "# PRC for all-variable classifier\n",
        "ytest_prob = LR_all.predict_proba(Xtest)\n",
        "precision, recall, _ = precision_recall_curve(ytest, ytest_prob[:,1], pos_label=1)\n",
        "ax=sns.lineplot(recall,precision)\n",
        "ax.set(xlabel=\"Recall\",ylabel=\"Precision\")"
      ],
      "execution_count": null,
      "outputs": [
        {
          "output_type": "stream",
          "text": [
            "/usr/local/lib/python3.6/dist-packages/seaborn/_decorators.py:43: FutureWarning: Pass the following variables as keyword args: x, y. From version 0.12, the only valid positional argument will be `data`, and passing other arguments without an explicit keyword will result in an error or misinterpretation.\n",
            "  FutureWarning\n"
          ],
          "name": "stderr"
        },
        {
          "output_type": "execute_result",
          "data": {
            "text/plain": [
              "[Text(0, 0.5, 'Precision'), Text(0.5, 0, 'Recall')]"
            ]
          },
          "metadata": {
            "tags": []
          },
          "execution_count": 49
        },
        {
          "output_type": "display_data",
          "data": {
            "image/png": "[encoded data removed]",
            "text/plain": [
              "<Figure size 432x288 with 1 Axes>"
            ]
          },
          "metadata": {
            "tags": [],
            "needs_background": "light"
          }
        }
      ]
    },
    {
      "cell_type": "code",
      "metadata": {
        "id": "hi-9Js5lw3Rb"
      },
      "source": [
        ""
      ],
      "execution_count": null,
      "outputs": []
    }
  ]
}
